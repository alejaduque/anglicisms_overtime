{
 "cells": [
  {
   "cell_type": "code",
   "execution_count": 1,
   "metadata": {},
   "outputs": [
    {
     "name": "stderr",
     "output_type": "stream",
     "text": [
      "c:\\Users\\aleja\\anaconda3\\envs\\py38\\lib\\site-packages\\tqdm\\auto.py:21: TqdmWarning: IProgress not found. Please update jupyter and ipywidgets. See https://ipywidgets.readthedocs.io/en/stable/user_install.html\n",
      "  from .autonotebook import tqdm as notebook_tqdm\n"
     ]
    },
    {
     "name": "stdout",
     "output_type": "stream",
     "text": [
      "2024-01-25 19:41:36,450 SequenceTagger predicts: Dictionary with 8 tags: <unk>, O, B-ENG, I-ENG, B-OTHER, I-OTHER, <START>, <STOP>\n"
     ]
    }
   ],
   "source": [
    "#Packages \n",
    "import pandas as pd\n",
    "import numpy as np\n",
    "from tqdm import tqdm\n",
    "import glob \n",
    "import pickle\n",
    "import re\n",
    "import random\n",
    "import sklearn\n",
    "import spacy\n",
    "nlp= spacy.blank('es')\n",
    "import matplotlib.pyplot as plt\n",
    "import string \n",
    "punctuation= list(string.punctuation)\n",
    "other_pnt=['!','¡', '¿'] #insert spanish punctuation\n",
    "\n",
    "#Loading modefrom flair.data import Sentence\n",
    "from flair.data import Sentence\n",
    "from flair.models import SequenceTagger\n",
    "import pathlib\n",
    "import os \n",
    "if os.name == 'nt': # Minor patch needed if you are running from Windows\n",
    "    temp = pathlib.PosixPath\n",
    "    pathlib.PosixPath = pathlib.WindowsPath\n",
    "  \n",
    "tagger = SequenceTagger.load(\"lirondos/anglicisms-spanish-flair-cs\")\n",
    "\n",
    "data_path= 'outputs/'\n"
   ]
  },
  {
   "cell_type": "code",
   "execution_count": 2,
   "metadata": {},
   "outputs": [
    {
     "name": "stdout",
     "output_type": "stream",
     "text": [
      "Sentence[15]: \"tengo la cuenta petada de likes de mis followers, me encanta ser influencer.\" → [\"likes\"/ENG, \"followers\"/ENG, \"influencer\"/ENG]\n",
      "Span[5:6]: \"likes\" → ENG (0.9979)\n",
      "Span[8:9]: \"followers\" → ENG (0.992)\n",
      "Span[13:14]: \"influencer\" → ENG (0.9163)\n"
     ]
    }
   ],
   "source": [
    "#Example of how the model works \n",
    "text = \"tengo la cuenta petada de likes de mis followers, me encanta ser influencer.\"\n",
    "\n",
    "sentence = Sentence(text)\n",
    "\n",
    "# predict tags\n",
    "tagger.predict(sentence)\n",
    "\n",
    "# print sentence\n",
    "print(sentence)\n",
    "\n",
    "# print predicted borrowing spans\n",
    "\n",
    "for entity in sentence.get_spans():\n",
    "   print(entity)\n"
   ]
  },
  {
   "cell_type": "code",
   "execution_count": 4,
   "metadata": {},
   "outputs": [
    {
     "name": "stdout",
     "output_type": "stream",
     "text": [
      "(696306, 8)\n"
     ]
    }
   ],
   "source": [
    "#Reading of dataframe\n",
    "directory_path=\"comments/output*\"#direction of file location \n",
    "files_path= glob.glob(directory_path)\n",
    "dfs=[]\n",
    "for file in files_path:\n",
    "    df= pd.read_csv(file)\n",
    "    dfs.append(df)\n",
    "m_df= pd.concat(dfs, ignore_index=True)\n",
    "m_df[\"Comment date\"]=pd.to_datetime(m_df[\"Comment date\"])\n",
    "m_df = m_df.dropna(subset=['Comment'])\n",
    "m_df= m_df.drop_duplicates(subset=['Comment'])\n",
    "print(m_df.shape)"
   ]
  },
  {
   "cell_type": "code",
   "execution_count": 19,
   "metadata": {},
   "outputs": [
    {
     "name": "stdout",
     "output_type": "stream",
     "text": [
      "(696306, 8)\n",
      "[770148 548463  33074 ... 381790 555114 376586]\n",
      "[799857 162220 206799 ... 226017 152689 230618]\n",
      "[782595 446088 572800 ... 395524  68395 396631]\n"
     ]
    }
   ],
   "source": [
    "#Balances data\n",
    "\n",
    "def delete_entries_year(df, year, n_samples):\n",
    "    indices_year = df[df[\"Comment date\"].dt.year == year].index.to_numpy()\n",
    "    indices_delete = np.random.choice(indices_year, size=n_samples, replace=False)\n",
    "    print(indices_delete)\n",
    "    return df.drop(indices_delete)\n",
    "\n",
    "\n",
    "print(m_df.shape)\n",
    "m_df = delete_entries_year(m_df, 2017,50000)\n",
    "m_df = delete_entries_year(m_df, 2020, 50000)\n",
    "m_df = delete_entries_year(m_df, 2018, 40000)"
   ]
  },
  {
   "cell_type": "code",
   "execution_count": 60,
   "metadata": {},
   "outputs": [
    {
     "name": "stdout",
     "output_type": "stream",
     "text": [
      "2010 comments:342\n",
      "2011 comments:8316\n",
      "2012 comments:45452\n",
      "2013 comments:46152\n",
      "2014 comments:33089\n",
      "2015 comments:43561\n",
      "2016 comments:66027\n",
      "2017 comments:108606\n",
      "2018 comments:97130\n",
      "2019 comments:57683\n",
      "2020 comments:109501\n",
      "2021 comments:49433\n",
      "2022 comments:17063\n",
      "2023 comments:13622\n",
      "Total number of comments:695977\n"
     ]
    }
   ],
   "source": [
    "#Counts number of comments per year\n",
    "years= [2010, 2011, 2012,2013,2014,2015,2016,2017,2018,2019,2020,2021,2022,2023]\n",
    "p_years_values=[]\n",
    "cont = 0\n",
    "for i in years:\n",
    "    year_to_filter=i\n",
    "    filtered_df=m_df[m_df[\"Comment date\"].dt.year == year_to_filter] #filter dataframe by year\n",
    "    num_entries = len(filtered_df)# Get the number of entries in the filtered DataFrame\n",
    "    cont += num_entries\n",
    "    p_years_values.append(num_entries)\n",
    "    print(f'{i} comments:{num_entries}')\n",
    "print(f'Total number of comments:{cont}')"
   ]
  },
  {
   "cell_type": "code",
   "execution_count": 15,
   "metadata": {},
   "outputs": [],
   "source": [
    "def extract_comments_score(transformer, m_df, year):\n",
    "  #Empty list for storing analysis \n",
    "  clean_comments= []\n",
    "  \n",
    "  df = m_df[m_df[\"Comment date\"].dt.year == year]\n",
    "  comments = df['Comment'].values\n",
    "  for i in tqdm(comments):\n",
    "    sentence=Sentence(i)\n",
    "    tagger.predict(sentence)\n",
    "    x= list(sentence.get_spans())\n",
    "    clean_comments.append(x)\n",
    "  return clean_comments\n"
   ]
  },
  {
   "cell_type": "code",
   "execution_count": 37,
   "metadata": {},
   "outputs": [],
   "source": [
    "\n",
    "def counting_df(comments, year):\n",
    "    items= list(comments)\n",
    "    count= [] #Counting borrowings in dataframe\n",
    "    for i in items:\n",
    "        borrow = len(i)\n",
    "        count.append(borrow)\n",
    "    df= m_df[m_df[\"Comment date\"].dt.year == year]\n",
    "    df[\"Borrowings\"]=count #Appends output of transformer to df\n",
    "    df['Analysis']=items\n",
    "    x= 'outputs/output_' + str(year) +'.csv'\n",
    "    df.to_csv(x)\n",
    "\n",
    "    return df \n"
   ]
  },
  {
   "cell_type": "code",
   "execution_count": 44,
   "metadata": {},
   "outputs": [
    {
     "name": "stderr",
     "output_type": "stream",
     "text": [
      "100%|██████████| 13622/13622 [17:47<00:00, 12.76it/s] \n",
      "C:\\Users\\aleja\\AppData\\Local\\Temp\\ipykernel_6308\\1335839854.py:8: SettingWithCopyWarning: \n",
      "A value is trying to be set on a copy of a slice from a DataFrame.\n",
      "Try using .loc[row_indexer,col_indexer] = value instead\n",
      "\n",
      "See the caveats in the documentation: https://pandas.pydata.org/pandas-docs/stable/user_guide/indexing.html#returning-a-view-versus-a-copy\n",
      "  df[\"Borrowings\"]=count #Appends output of transformer to df\n",
      "C:\\Users\\aleja\\AppData\\Local\\Temp\\ipykernel_6308\\1335839854.py:9: SettingWithCopyWarning: \n",
      "A value is trying to be set on a copy of a slice from a DataFrame.\n",
      "Try using .loc[row_indexer,col_indexer] = value instead\n",
      "\n",
      "See the caveats in the documentation: https://pandas.pydata.org/pandas-docs/stable/user_guide/indexing.html#returning-a-view-versus-a-copy\n",
      "  df['Analysis']=items\n"
     ]
    },
    {
     "name": "stdout",
     "output_type": "stream",
     "text": [
      "Lenght of the final list:13622\n"
     ]
    }
   ],
   "source": [
    "comments_2023 = extract_comments_score(tagger, m_df, 2023)\n",
    "counting_2023= counting_df(comments_2023, 2023)\n",
    "print(f'Lenght of the final list:{len(comments_2023)}')"
   ]
  },
  {
   "cell_type": "markdown",
   "metadata": {},
   "source": [
    "To compute statistical analysis, load the \"clean_comments\" file, as the processing of the sentences can take a long time to load. "
   ]
  },
  {
   "cell_type": "code",
   "execution_count": 5,
   "metadata": {},
   "outputs": [],
   "source": [
    "#Stats \n",
    "x= data_path +'output_*'\n",
    "\n",
    "#Read new dataframe\n",
    "files_path= glob.glob(x)\n",
    "data =[]\n",
    "for file in files_path:\n",
    "    df= pd.read_csv(file)\n",
    "    data.append(df)\n",
    "all_comments= pd.concat(data, ignore_index=True)\n"
   ]
  },
  {
   "cell_type": "code",
   "execution_count": 9,
   "metadata": {},
   "outputs": [],
   "source": [
    "#Counting words in each comment\n",
    "comments= all_comments['Comment'].values\n",
    "sentences_len= []\n",
    "for i in comments:\n",
    "    doc= nlp(i)\n",
    "    doc_1=[token.text for token in doc] #Tokens\n",
    "    doc_2= [t for t in doc_1 if t not in punctuation] #Removes punctuation\n",
    "    l_sent= len(doc_2) \n",
    "    sentences_len.append(l_sent)\n",
    "all_comments['Total word count']=sentences_len\n"
   ]
  },
  {
   "cell_type": "code",
   "execution_count": 28,
   "metadata": {},
   "outputs": [
    {
     "data": {
      "text/plain": [
       "0.055822002217847694"
      ]
     },
     "execution_count": 28,
     "metadata": {},
     "output_type": "execute_result"
    }
   ],
   "source": [
    "#Correlation of year and number of anglicisms produced. Not included in written essay.\n",
    "year_i= pd.to_datetime(all_comments[\"Comment date\"]).dt.year.values\n",
    "borrow_i=all_comments[\"Borrowings\"].values\n",
    "\n",
    "u_year = np.mean(year_i)\n",
    "u_borrow = np.mean(borrow_i)\n",
    "\n",
    "x_values = np.vstack((year_i - u_year, borrow_i - u_borrow))\n",
    "R = (1/x_values.shape[1])*(x_values @ x_values.T)\n",
    "\n",
    "var_years = R[0, 0]\n",
    "var_borrowings = R[1, 1]\n",
    "\n",
    "coef_corr = R[0, 1]/(np.sqrt(var_years)*np.sqrt(var_borrowings))\n",
    "\n",
    "coef_corr"
   ]
  },
  {
   "cell_type": "code",
   "execution_count": 11,
   "metadata": {},
   "outputs": [
    {
     "name": "stdout",
     "output_type": "stream",
     "text": [
      "0.08177857960045763\n",
      "0.07915149939330907\n",
      "0.14234337695306598\n",
      "0.1405844677578568\n",
      "0.12934102715555756\n",
      "0.13592464935330853\n",
      "0.1518816733765097\n",
      "0.1580014909071997\n",
      "0.1773583637249794\n",
      "0.14842311815993364\n",
      "0.1343843403856297\n",
      "0.18793128762296285\n"
     ]
    }
   ],
   "source": [
    "#Calculation of frequency\n",
    "years= [2012,2013,2014,2015,2016,2017,2018,2019,2020,2021,2022,2023]\n",
    "p_years_values=[]\n",
    "for i in years:\n",
    "    year_to_filter=i\n",
    "    column_name = 'Borrowings'\n",
    "    value_threshold = 1\n",
    "    filtered_db=all_comments[pd.to_datetime(all_comments[\"Comment date\"]).dt.year == year_to_filter] #filter dataframe by year\n",
    "    counting= filtered_db[filtered_db[column_name] >= value_threshold]# Filter the DataFrame based on the condition\n",
    "    num_entries = len(counting)# Get the number of entries in the filtered DataFrame\n",
    "    p_anglicism= num_entries / (len(filtered_db))\n",
    "    print(p_anglicism) \n",
    "    p_years_values.append(p_anglicism)"
   ]
  },
  {
   "cell_type": "code",
   "execution_count": 35,
   "metadata": {},
   "outputs": [
    {
     "data": {
      "image/png": "[encoded data removed]",
      "text/plain": [
       "<Figure size 640x480 with 1 Axes>"
      ]
     },
     "metadata": {},
     "output_type": "display_data"
    },
    {
     "data": {
      "text/plain": [
       "<Figure size 640x480 with 0 Axes>"
      ]
     },
     "metadata": {},
     "output_type": "display_data"
    }
   ],
   "source": [
    "plt.stem(years, p_years_values)\n",
    "#plt.ylim([0, 0.2])\n",
    "plt.show()\n",
    "plt.savefig(\"frequency_borrowings\")"
   ]
  },
  {
   "cell_type": "code",
   "execution_count": 37,
   "metadata": {},
   "outputs": [
    {
     "name": "stdout",
     "output_type": "stream",
     "text": [
      "1.3225719666397633\n",
      "1.2811387900355873\n",
      "1.343524416135881\n",
      "1.2880470280862182\n",
      "1.1878220140515223\n",
      "1.2175495857393923\n",
      "1.2020283508124927\n",
      "1.2340355497037525\n",
      "1.276509049559367\n",
      "1.2097587569851438\n",
      "1.2839075447012647\n",
      "1.17265625\n"
     ]
    },
    {
     "data": {
      "image/png": "[encoded data removed]",
      "text/plain": [
       "<Figure size 640x480 with 1 Axes>"
      ]
     },
     "metadata": {},
     "output_type": "display_data"
    }
   ],
   "source": [
    "#Mean of anglicisms for each year\n",
    "prob_ang= []\n",
    "for i in years:\n",
    "    year_to_filter=i\n",
    "    column_name = 'Borrowings'\n",
    "    value_threshold = 1\n",
    "    filtered_db=all_comments[pd.to_datetime(all_comments[\"Comment date\"]).dt.year == year_to_filter] #filter dataframe by year\n",
    "    counting= filtered_db[filtered_db[column_name].values >= value_threshold]# Filter the DataFrame based on the condition\n",
    "    c_values= np.sum(counting[column_name].values)\n",
    "    num_entries = len(counting)# Get the number of entries in the filtered DataFrame\n",
    "    p_anglicism= c_values / (len(counting))\n",
    "    print(p_anglicism) \n",
    "    prob_ang.append(p_anglicism)\n",
    "\n",
    "plt.stem(years, prob_ang)\n",
    "#plt.ylim([0, 0.2])\n",
    "plt.savefig(\"mean_num_borrow.png\")\n",
    "plt.show()\n"
   ]
  }
 ],
 "metadata": {
  "kernelspec": {
   "display_name": "py38",
   "language": "python",
   "name": "python3"
  },
  "language_info": {
   "codemirror_mode": {
    "name": "ipython",
    "version": 3
   },
   "file_extension": ".py",
   "mimetype": "text/x-python",
   "name": "python",
   "nbconvert_exporter": "python",
   "pygments_lexer": "ipython3",
   "version": "3.8.18"
  }
 },
 "nbformat": 4,
 "nbformat_minor": 2
}
